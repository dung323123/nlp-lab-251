{
  "nbformat": 4,
  "nbformat_minor": 0,
  "metadata": {
    "colab": {
      "provenance": [],
      "gpuType": "T4"
    },
    "kernelspec": {
      "name": "python3",
      "display_name": "Python 3"
    },
    "language_info": {
      "name": "python"
    },
    "accelerator": "GPU"
  },
  "cells": [
    {
      "cell_type": "markdown",
      "source": [
        "# Install package"
      ],
      "metadata": {
        "id": "MhL9a5WnbmUg"
      }
    },
    {
      "cell_type": "code",
      "source": [
        "%pip -q install spacy==3.7.5 spacy-lookups-data\n",
        "!python -m spacy download en_core_web_md"
      ],
      "metadata": {
        "colab": {
          "base_uri": "https://localhost:8080/"
        },
        "id": "wKxUdR-QWKQd",
        "outputId": "1ca55b20-8e29-417c-cb84-dc251d88b247"
      },
      "execution_count": 1,
      "outputs": [
        {
          "output_type": "stream",
          "name": "stdout",
          "text": [
            "Collecting en-core-web-md==3.7.1\n",
            "  Using cached https://github.com/explosion/spacy-models/releases/download/en_core_web_md-3.7.1/en_core_web_md-3.7.1-py3-none-any.whl (42.8 MB)\n",
            "Requirement already satisfied: spacy<3.8.0,>=3.7.2 in /usr/local/lib/python3.12/dist-packages (from en-core-web-md==3.7.1) (3.7.5)\n",
            "Requirement already satisfied: spacy-legacy<3.1.0,>=3.0.11 in /usr/local/lib/python3.12/dist-packages (from spacy<3.8.0,>=3.7.2->en-core-web-md==3.7.1) (3.0.12)\n",
            "Requirement already satisfied: spacy-loggers<2.0.0,>=1.0.0 in /usr/local/lib/python3.12/dist-packages (from spacy<3.8.0,>=3.7.2->en-core-web-md==3.7.1) (1.0.5)\n",
            "Requirement already satisfied: murmurhash<1.1.0,>=0.28.0 in /usr/local/lib/python3.12/dist-packages (from spacy<3.8.0,>=3.7.2->en-core-web-md==3.7.1) (1.0.13)\n",
            "Requirement already satisfied: cymem<2.1.0,>=2.0.2 in /usr/local/lib/python3.12/dist-packages (from spacy<3.8.0,>=3.7.2->en-core-web-md==3.7.1) (2.0.11)\n",
            "Requirement already satisfied: preshed<3.1.0,>=3.0.2 in /usr/local/lib/python3.12/dist-packages (from spacy<3.8.0,>=3.7.2->en-core-web-md==3.7.1) (3.0.10)\n",
            "Requirement already satisfied: thinc<8.3.0,>=8.2.2 in /usr/local/lib/python3.12/dist-packages (from spacy<3.8.0,>=3.7.2->en-core-web-md==3.7.1) (8.2.5)\n",
            "Requirement already satisfied: wasabi<1.2.0,>=0.9.1 in /usr/local/lib/python3.12/dist-packages (from spacy<3.8.0,>=3.7.2->en-core-web-md==3.7.1) (1.1.3)\n",
            "Requirement already satisfied: srsly<3.0.0,>=2.4.3 in /usr/local/lib/python3.12/dist-packages (from spacy<3.8.0,>=3.7.2->en-core-web-md==3.7.1) (2.5.1)\n",
            "Requirement already satisfied: catalogue<2.1.0,>=2.0.6 in /usr/local/lib/python3.12/dist-packages (from spacy<3.8.0,>=3.7.2->en-core-web-md==3.7.1) (2.0.10)\n",
            "Requirement already satisfied: weasel<0.5.0,>=0.1.0 in /usr/local/lib/python3.12/dist-packages (from spacy<3.8.0,>=3.7.2->en-core-web-md==3.7.1) (0.4.1)\n",
            "Requirement already satisfied: typer<1.0.0,>=0.3.0 in /usr/local/lib/python3.12/dist-packages (from spacy<3.8.0,>=3.7.2->en-core-web-md==3.7.1) (0.19.2)\n",
            "Requirement already satisfied: tqdm<5.0.0,>=4.38.0 in /usr/local/lib/python3.12/dist-packages (from spacy<3.8.0,>=3.7.2->en-core-web-md==3.7.1) (4.67.1)\n",
            "Requirement already satisfied: requests<3.0.0,>=2.13.0 in /usr/local/lib/python3.12/dist-packages (from spacy<3.8.0,>=3.7.2->en-core-web-md==3.7.1) (2.32.4)\n",
            "Requirement already satisfied: pydantic!=1.8,!=1.8.1,<3.0.0,>=1.7.4 in /usr/local/lib/python3.12/dist-packages (from spacy<3.8.0,>=3.7.2->en-core-web-md==3.7.1) (2.11.9)\n",
            "Requirement already satisfied: jinja2 in /usr/local/lib/python3.12/dist-packages (from spacy<3.8.0,>=3.7.2->en-core-web-md==3.7.1) (3.1.6)\n",
            "Requirement already satisfied: setuptools in /usr/local/lib/python3.12/dist-packages (from spacy<3.8.0,>=3.7.2->en-core-web-md==3.7.1) (75.2.0)\n",
            "Requirement already satisfied: packaging>=20.0 in /usr/local/lib/python3.12/dist-packages (from spacy<3.8.0,>=3.7.2->en-core-web-md==3.7.1) (25.0)\n",
            "Requirement already satisfied: langcodes<4.0.0,>=3.2.0 in /usr/local/lib/python3.12/dist-packages (from spacy<3.8.0,>=3.7.2->en-core-web-md==3.7.1) (3.5.0)\n",
            "Requirement already satisfied: numpy>=1.19.0 in /usr/local/lib/python3.12/dist-packages (from spacy<3.8.0,>=3.7.2->en-core-web-md==3.7.1) (1.26.4)\n",
            "Requirement already satisfied: language-data>=1.2 in /usr/local/lib/python3.12/dist-packages (from langcodes<4.0.0,>=3.2.0->spacy<3.8.0,>=3.7.2->en-core-web-md==3.7.1) (1.3.0)\n",
            "Requirement already satisfied: annotated-types>=0.6.0 in /usr/local/lib/python3.12/dist-packages (from pydantic!=1.8,!=1.8.1,<3.0.0,>=1.7.4->spacy<3.8.0,>=3.7.2->en-core-web-md==3.7.1) (0.7.0)\n",
            "Requirement already satisfied: pydantic-core==2.33.2 in /usr/local/lib/python3.12/dist-packages (from pydantic!=1.8,!=1.8.1,<3.0.0,>=1.7.4->spacy<3.8.0,>=3.7.2->en-core-web-md==3.7.1) (2.33.2)\n",
            "Requirement already satisfied: typing-extensions>=4.12.2 in /usr/local/lib/python3.12/dist-packages (from pydantic!=1.8,!=1.8.1,<3.0.0,>=1.7.4->spacy<3.8.0,>=3.7.2->en-core-web-md==3.7.1) (4.15.0)\n",
            "Requirement already satisfied: typing-inspection>=0.4.0 in /usr/local/lib/python3.12/dist-packages (from pydantic!=1.8,!=1.8.1,<3.0.0,>=1.7.4->spacy<3.8.0,>=3.7.2->en-core-web-md==3.7.1) (0.4.2)\n",
            "Requirement already satisfied: charset_normalizer<4,>=2 in /usr/local/lib/python3.12/dist-packages (from requests<3.0.0,>=2.13.0->spacy<3.8.0,>=3.7.2->en-core-web-md==3.7.1) (3.4.3)\n",
            "Requirement already satisfied: idna<4,>=2.5 in /usr/local/lib/python3.12/dist-packages (from requests<3.0.0,>=2.13.0->spacy<3.8.0,>=3.7.2->en-core-web-md==3.7.1) (3.10)\n",
            "Requirement already satisfied: urllib3<3,>=1.21.1 in /usr/local/lib/python3.12/dist-packages (from requests<3.0.0,>=2.13.0->spacy<3.8.0,>=3.7.2->en-core-web-md==3.7.1) (2.5.0)\n",
            "Requirement already satisfied: certifi>=2017.4.17 in /usr/local/lib/python3.12/dist-packages (from requests<3.0.0,>=2.13.0->spacy<3.8.0,>=3.7.2->en-core-web-md==3.7.1) (2025.8.3)\n",
            "Requirement already satisfied: blis<0.8.0,>=0.7.8 in /usr/local/lib/python3.12/dist-packages (from thinc<8.3.0,>=8.2.2->spacy<3.8.0,>=3.7.2->en-core-web-md==3.7.1) (0.7.11)\n",
            "Requirement already satisfied: confection<1.0.0,>=0.0.1 in /usr/local/lib/python3.12/dist-packages (from thinc<8.3.0,>=8.2.2->spacy<3.8.0,>=3.7.2->en-core-web-md==3.7.1) (0.1.5)\n",
            "Requirement already satisfied: click>=8.0.0 in /usr/local/lib/python3.12/dist-packages (from typer<1.0.0,>=0.3.0->spacy<3.8.0,>=3.7.2->en-core-web-md==3.7.1) (8.3.0)\n",
            "Requirement already satisfied: shellingham>=1.3.0 in /usr/local/lib/python3.12/dist-packages (from typer<1.0.0,>=0.3.0->spacy<3.8.0,>=3.7.2->en-core-web-md==3.7.1) (1.5.4)\n",
            "Requirement already satisfied: rich>=10.11.0 in /usr/local/lib/python3.12/dist-packages (from typer<1.0.0,>=0.3.0->spacy<3.8.0,>=3.7.2->en-core-web-md==3.7.1) (13.9.4)\n",
            "Requirement already satisfied: cloudpathlib<1.0.0,>=0.7.0 in /usr/local/lib/python3.12/dist-packages (from weasel<0.5.0,>=0.1.0->spacy<3.8.0,>=3.7.2->en-core-web-md==3.7.1) (0.22.0)\n",
            "Requirement already satisfied: smart-open<8.0.0,>=5.2.1 in /usr/local/lib/python3.12/dist-packages (from weasel<0.5.0,>=0.1.0->spacy<3.8.0,>=3.7.2->en-core-web-md==3.7.1) (7.3.1)\n",
            "Requirement already satisfied: MarkupSafe>=2.0 in /usr/local/lib/python3.12/dist-packages (from jinja2->spacy<3.8.0,>=3.7.2->en-core-web-md==3.7.1) (3.0.3)\n",
            "Requirement already satisfied: marisa-trie>=1.1.0 in /usr/local/lib/python3.12/dist-packages (from language-data>=1.2->langcodes<4.0.0,>=3.2.0->spacy<3.8.0,>=3.7.2->en-core-web-md==3.7.1) (1.3.1)\n",
            "Requirement already satisfied: markdown-it-py>=2.2.0 in /usr/local/lib/python3.12/dist-packages (from rich>=10.11.0->typer<1.0.0,>=0.3.0->spacy<3.8.0,>=3.7.2->en-core-web-md==3.7.1) (4.0.0)\n",
            "Requirement already satisfied: pygments<3.0.0,>=2.13.0 in /usr/local/lib/python3.12/dist-packages (from rich>=10.11.0->typer<1.0.0,>=0.3.0->spacy<3.8.0,>=3.7.2->en-core-web-md==3.7.1) (2.19.2)\n",
            "Requirement already satisfied: wrapt in /usr/local/lib/python3.12/dist-packages (from smart-open<8.0.0,>=5.2.1->weasel<0.5.0,>=0.1.0->spacy<3.8.0,>=3.7.2->en-core-web-md==3.7.1) (1.17.3)\n",
            "Requirement already satisfied: mdurl~=0.1 in /usr/local/lib/python3.12/dist-packages (from markdown-it-py>=2.2.0->rich>=10.11.0->typer<1.0.0,>=0.3.0->spacy<3.8.0,>=3.7.2->en-core-web-md==3.7.1) (0.1.2)\n",
            "\u001b[38;5;2m✔ Download and installation successful\u001b[0m\n",
            "You can now load the package via spacy.load('en_core_web_md')\n",
            "\u001b[38;5;3m⚠ Restart to reload dependencies\u001b[0m\n",
            "If you are in a Jupyter or Colab notebook, you may need to restart Python in\n",
            "order to load all the package's dependencies. You can do this by selecting the\n",
            "'Restart kernel' or 'Restart runtime' option.\n"
          ]
        }
      ]
    },
    {
      "cell_type": "markdown",
      "source": [
        "# Import"
      ],
      "metadata": {
        "id": "KVnZX6Jmbver"
      }
    },
    {
      "cell_type": "code",
      "source": [
        "import spacy, numpy as np, re, os, zipfile, urllib.request\n",
        "from pathlib import Path\n",
        "\n",
        "nlp = spacy.load(\"en_core_web_md\")  # including vectors 300d\n",
        "TOKEN_RE = re.compile(r\"[A-Za-z]+(?:'[A-Za-z]+)?\")\n",
        "STOP = nlp.Defaults.stop_words\n",
        "\n",
        "def normalize(text: str):\n",
        "    toks = [t.lower() for t in TOKEN_RE.findall(text)]\n",
        "    return [t for t in toks if t not in STOP and len(t) > 2]\n",
        "\n",
        "def doc_vector_spacy(text: str):\n",
        "    doc = nlp(\" \".join(normalize(text)))\n",
        "    vecs = [t.vector for t in doc if t.has_vector]\n",
        "    if not vecs:\n",
        "        return np.zeros(nlp.vocab.vectors_length, dtype=np.float32)\n",
        "    return np.vstack(vecs).mean(axis=0).astype(np.float32)\n",
        "\n",
        "def cosine_sim(a,b,eps=1e-9):\n",
        "    a = a/(np.linalg.norm(a)+eps); b = b/(np.linalg.norm(b)+eps)\n",
        "    return float(a@b)\n",
        "\n",
        "print(\"Ready ✓ | vector dim:\", nlp.vocab.vectors_length)\n"
      ],
      "metadata": {
        "colab": {
          "base_uri": "https://localhost:8080/"
        },
        "id": "F8uDmLiNWeHk",
        "outputId": "a6aada17-8077-4d0a-b864-be4ef82836a4"
      },
      "execution_count": 2,
      "outputs": [
        {
          "output_type": "stream",
          "name": "stdout",
          "text": [
            "Ready ✓ | vector dim: 300\n"
          ]
        }
      ]
    },
    {
      "cell_type": "markdown",
      "source": [
        "# Download and extract dataset"
      ],
      "metadata": {
        "id": "QZyrp-4Ub00p"
      }
    },
    {
      "cell_type": "code",
      "source": [
        "DATA_URL = \"https://s3.amazonaws.com/video.udacity-data.com/topher/2019/January/5c4147f9_data/data.zip\"\n",
        "DATA_DIR = Path(\"/content/data\")\n",
        "ZIP_PATH = DATA_DIR / \"data.zip\"\n",
        "\n",
        "DATA_DIR.mkdir(parents=True, exist_ok=True)\n",
        "if not ZIP_PATH.exists():\n",
        "    print(\"Downloading dataset...\")\n",
        "    urllib.request.urlretrieve(DATA_URL, ZIP_PATH)\n",
        "else:\n",
        "    print(\"Found cached zip.\")\n",
        "\n",
        "with zipfile.ZipFile(ZIP_PATH, \"r\") as zf:\n",
        "    zf.extractall(DATA_DIR)\n",
        "\n",
        "for root, _, files in os.walk(DATA_DIR):\n",
        "    print(Path(root).relative_to(DATA_DIR), \"->\", len(files), \"files\")\n"
      ],
      "metadata": {
        "colab": {
          "base_uri": "https://localhost:8080/"
        },
        "id": "LHGLEPh7YN5p",
        "outputId": "020deba0-8040-4c63-f7b1-7376f56d3e95"
      },
      "execution_count": 3,
      "outputs": [
        {
          "output_type": "stream",
          "name": "stdout",
          "text": [
            "Downloading dataset...\n",
            ". -> 1 files\n",
            "__MACOSX -> 1 files\n",
            "__MACOSX/data -> 102 files\n",
            "data -> 103 files\n"
          ]
        }
      ]
    },
    {
      "cell_type": "markdown",
      "source": [
        "# Peek files"
      ],
      "metadata": {
        "id": "p49NNJ_vb4pV"
      }
    },
    {
      "cell_type": "code",
      "source": [
        "def peek_some_txt(base, n=3):\n",
        "    base = Path(base)\n",
        "    texts = sorted(base.rglob(\"*.txt\"))\n",
        "    print(\"Found\", len(texts), \"txt files\")\n",
        "    for p in texts[:n]:\n",
        "        s = p.read_text(encoding=\"utf-8\", errors=\"ignore\")[:400].replace(\"\\n\",\" \")\n",
        "        print(\"\\n---\", p, \"---\\n\", s[:400], \"...\")\n",
        "\n",
        "peek_some_txt(DATA_DIR, n=3)\n"
      ],
      "metadata": {
        "colab": {
          "base_uri": "https://localhost:8080/"
        },
        "id": "iesED399YTRl",
        "outputId": "5802b657-c930-46ec-8258-48598abaeb83"
      },
      "execution_count": 4,
      "outputs": [
        {
          "output_type": "stream",
          "name": "stdout",
          "text": [
            "Found 199 txt files\n",
            "\n",
            "--- /content/data/__MACOSX/data/._g0pA_taska.txt ---\n",
            " \u0000\u0005\u0016\u0007\u0000\u0002\u0000\u0000Mac OS X        \u0000\u0002\u0000\u0000\u0000\t\u0000\u0000\u00002\u0000\u0000\u0000\u0000\u0000\u0000\u0002\u0000\u0000\u0000\u0000\u0000\u0000\u0000\u0000\u0000\u0000\u0000\u0000\u0000\u0000\u0000\u0000\u0000\u0000\u0000\u0000\u0000\u0000\u0000\u0000\u0000\u0000\u0000\u0000\u0000\u0000\u0000\u0000\u0000\u0000\u0000\u0000\u0000\u0000\u0000\u0000\u0000ATTR\u0000\u0000\u0000\u0000\u0000\u0000\u0000\u0000\u0000\u0000\u0000\u0000\u0000F\u0000\u0000\u0000\u0000\u0000\u0000\u0000\u0000\u0000\u0000\u0000\u0000\u0000\u0000\u0000\u0001\u0000\u0000\u0000\u0000\u0000\u0000F\u0000\u0000\u0015com.apple.quarantine\u0000q/0001;5c13fb82;Google\\x20Chrome;E3D29904-6090-44D1-96D7-AA41117F14B4\u0000 ...\n",
            "\n",
            "--- /content/data/__MACOSX/data/._g0pA_taskb.txt ---\n",
            " \u0000\u0005\u0016\u0007\u0000\u0002\u0000\u0000Mac OS X        \u0000\u0002\u0000\u0000\u0000\t\u0000\u0000\u00002\u0000\u0000\u0000\u0000\u0000\u0000\u0002\u0000\u0000\u0000\u0000\u0000\u0000\u0000\u0000\u0000\u0000\u0000\u0000\u0000\u0000\u0000\u0000\u0000\u0000\u0000\u0000\u0000\u0000\u0000\u0000\u0000\u0000\u0000\u0000\u0000\u0000\u0000\u0000\u0000\u0000\u0000\u0000\u0000\u0000\u0000\u0000\u0000ATTR\u0000\u0000\u0000\u0000\u0000\u0000\u0000\u0000\u0000\u0000\u0000\u0000\u0000F\u0000\u0000\u0000\u0000\u0000\u0000\u0000\u0000\u0000\u0000\u0000\u0000\u0000\u0000\u0000\u0001\u0000\u0000\u0000\u0000\u0000\u0000F\u0000\u0000\u0015com.apple.quarantine\u0000q/0001;5c13fb82;Google\\x20Chrome;E3D29904-6090-44D1-96D7-AA41117F14B4\u0000 ...\n",
            "\n",
            "--- /content/data/__MACOSX/data/._g0pA_taskc.txt ---\n",
            " \u0000\u0005\u0016\u0007\u0000\u0002\u0000\u0000Mac OS X        \u0000\u0002\u0000\u0000\u0000\t\u0000\u0000\u00002\u0000\u0000\u0000\u0000\u0000\u0000\u0002\u0000\u0000\u0000\u0000\u0000\u0000\u0000\u0000\u0000\u0000\u0000\u0000\u0000\u0000\u0000\u0000\u0000\u0000\u0000\u0000\u0000\u0000\u0000\u0000\u0000\u0000\u0000\u0000\u0000\u0000\u0000\u0000\u0000\u0000\u0000\u0000\u0000\u0000\u0000\u0000\u0000ATTR\u0000\u0000\u0000\u0000\u0000\u0000\u0000\u0000\u0000\u0000\u0000\u0000\u0000F\u0000\u0000\u0000\u0000\u0000\u0000\u0000\u0000\u0000\u0000\u0000\u0000\u0000\u0000\u0000\u0001\u0000\u0000\u0000\u0000\u0000\u0000F\u0000\u0000\u0015com.apple.quarantine\u0000q/0001;5c13fb82;Google\\x20Chrome;E3D29904-6090-44D1-96D7-AA41117F14B4\u0000 ...\n"
          ]
        }
      ]
    },
    {
      "cell_type": "markdown",
      "source": [
        "# Extract sourrces and queries"
      ],
      "metadata": {
        "id": "uSFzd-ibb-oi"
      }
    },
    {
      "cell_type": "code",
      "source": [
        "BASE = DATA_DIR\n",
        "CAND_SRC = [\"source\", \"sources\", \"original\", \"orig\"]\n",
        "CAND_QRY = [\"plagiarism\", \"plagiarized\", \"suspicious\", \"queries\", \"student\"]\n",
        "\n",
        "def find_subdirs(base, names):\n",
        "    return [base/n for n in names if (base/n).exists()]\n",
        "\n",
        "SRC_DIRS = find_subdirs(BASE, CAND_SRC)\n",
        "QRY_DIRS = find_subdirs(BASE, CAND_QRY)\n",
        "\n",
        "def read_txts(dir_list):\n",
        "    items = []\n",
        "    for d in dir_list:\n",
        "        for p in sorted(Path(d).rglob(\"*.txt\")):\n",
        "            try:\n",
        "                items.append((str(p), Path(p).read_text(encoding=\"utf-8\", errors=\"ignore\")))\n",
        "            except:\n",
        "                pass\n",
        "    return items\n",
        "\n",
        "src_items = read_txts(SRC_DIRS) or read_txts([BASE])  # fallback\n",
        "qry_items = read_txts(QRY_DIRS)\n",
        "\n",
        "# if no queries → split 80/20 from source for demo\n",
        "if not qry_items:\n",
        "    split = int(0.8 * len(src_items))\n",
        "    qry_items = src_items[split:]\n",
        "    src_items = src_items[:split]\n",
        "    print(\"(Fallback split) sources:\", len(src_items), \"| queries:\", len(qry_items))\n",
        "else:\n",
        "    print(\"sources:\", len(src_items), \"| queries:\", len(qry_items))\n"
      ],
      "metadata": {
        "colab": {
          "base_uri": "https://localhost:8080/"
        },
        "id": "5DinMz7JYV_R",
        "outputId": "87431e7f-c4c7-46b8-d315-afd80f52aeef"
      },
      "execution_count": 5,
      "outputs": [
        {
          "output_type": "stream",
          "name": "stdout",
          "text": [
            "(Fallback split) sources: 159 | queries: 40\n"
          ]
        }
      ]
    },
    {
      "cell_type": "markdown",
      "source": [
        "# DocSim"
      ],
      "metadata": {
        "id": "TiLmmVxfcJRi"
      }
    },
    {
      "cell_type": "code",
      "source": [
        "class DocSimSpaCy:\n",
        "    def __init__(self):\n",
        "        self.ids, self.vecs = [], None\n",
        "        self.texts = {}\n",
        "\n",
        "    def add_corpus(self, items):\n",
        "        vec_list = []\n",
        "        for doc_id, text in items:\n",
        "            v = doc_vector_spacy(text)\n",
        "            self.ids.append(doc_id)\n",
        "            self.texts[doc_id] = text\n",
        "            vec_list.append(v)\n",
        "        self.vecs = np.vstack(vec_list) if vec_list else None\n",
        "        print(\"Corpus:\", len(self.ids), \"| dim:\", 0 if self.vecs is None else self.vecs.shape[1])\n",
        "\n",
        "    def most_similar(self, query_text, topn=5):\n",
        "        if self.vecs is None: return []\n",
        "        qv = doc_vector_spacy(query_text)\n",
        "        V = self.vecs / (np.linalg.norm(self.vecs, axis=1, keepdims=True)+1e-9)\n",
        "        q = qv / (np.linalg.norm(qv)+1e-9)\n",
        "        sims = (V @ q).astype(float)\n",
        "        idx = np.argsort(-sims)[:topn]\n",
        "        return [{\"doc_id\": self.ids[i], \"similarity\": float(sims[i])} for i in idx]\n",
        "\n",
        "docs = DocSimSpaCy()\n",
        "docs.add_corpus(src_items)\n"
      ],
      "metadata": {
        "colab": {
          "base_uri": "https://localhost:8080/"
        },
        "id": "dN9Ooe6vYZdG",
        "outputId": "4594ef12-819c-4809-ad5f-640f14fbf95d"
      },
      "execution_count": 6,
      "outputs": [
        {
          "output_type": "stream",
          "name": "stdout",
          "text": [
            "Corpus: 159 | dim: 300\n"
          ]
        }
      ]
    },
    {
      "cell_type": "markdown",
      "source": [
        "# Top-K"
      ],
      "metadata": {
        "id": "OmAi9nWccNvd"
      }
    },
    {
      "cell_type": "code",
      "source": [
        "TOPK = 5\n",
        "THRESH = 0.75\n",
        "\n",
        "for q_id, q_text in qry_items[:5]:  # print first 5 queries\n",
        "    print(\"\\nQuery:\", q_id)\n",
        "    for r in docs.most_similar(q_text, topn=TOPK):\n",
        "        mark = \" ⛳\" if r[\"similarity\"] >= THRESH else \"\"\n",
        "        print(f\"  -> {r['doc_id']} | sim={r['similarity']:.3f}{mark}\")\n"
      ],
      "metadata": {
        "colab": {
          "base_uri": "https://localhost:8080/"
        },
        "id": "HUW2OKhpYcbj",
        "outputId": "2e0cd01f-bb9c-44b7-90b8-9ea4de734f59"
      },
      "execution_count": 11,
      "outputs": [
        {
          "output_type": "stream",
          "name": "stdout",
          "text": [
            "\n",
            "Query: /content/data/data/g3pA_taska.txt\n",
            "  -> /content/data/data/g1pA_taska.txt | sim=0.969 ⛳\n",
            "  -> /content/data/data/g1pD_taska.txt | sim=0.965 ⛳\n",
            "  -> /content/data/data/g2pC_taska.txt | sim=0.962 ⛳\n",
            "  -> /content/data/data/g0pC_taska.txt | sim=0.959 ⛳\n",
            "  -> /content/data/data/g2pE_taska.txt | sim=0.957 ⛳\n",
            "\n",
            "Query: /content/data/data/g3pA_taskb.txt\n",
            "  -> /content/data/data/g2pA_taskb.txt | sim=0.989 ⛳\n",
            "  -> /content/data/data/g2pC_taskb.txt | sim=0.980 ⛳\n",
            "  -> /content/data/data/g1pB_taskb.txt | sim=0.980 ⛳\n",
            "  -> /content/data/data/g0pA_taskb.txt | sim=0.979 ⛳\n",
            "  -> /content/data/data/g2pB_taskb.txt | sim=0.977 ⛳\n",
            "\n",
            "Query: /content/data/data/g3pA_taskc.txt\n",
            "  -> /content/data/data/g0pB_taskc.txt | sim=0.996 ⛳\n",
            "  -> /content/data/data/g2pA_taskc.txt | sim=0.995 ⛳\n",
            "  -> /content/data/data/g1pB_taskc.txt | sim=0.992 ⛳\n",
            "  -> /content/data/data/g0pA_taskc.txt | sim=0.991 ⛳\n",
            "  -> /content/data/data/g0pD_taskc.txt | sim=0.990 ⛳\n",
            "\n",
            "Query: /content/data/data/g3pA_taskd.txt\n",
            "  -> /content/data/data/g2pB_taskd.txt | sim=0.997 ⛳\n",
            "  -> /content/data/data/g0pC_taskd.txt | sim=0.994 ⛳\n",
            "  -> /content/data/data/g0pB_taskd.txt | sim=0.990 ⛳\n",
            "  -> /content/data/data/g1pA_taskd.txt | sim=0.988 ⛳\n",
            "  -> /content/data/data/g1pB_taskd.txt | sim=0.978 ⛳\n",
            "\n",
            "Query: /content/data/data/g3pA_taske.txt\n",
            "  -> /content/data/data/g1pD_taske.txt | sim=0.976 ⛳\n",
            "  -> /content/data/data/g2pE_taske.txt | sim=0.973 ⛳\n",
            "  -> /content/data/data/g2pC_taske.txt | sim=0.973 ⛳\n",
            "  -> /content/data/data/g2pA_taske.txt | sim=0.972 ⛳\n",
            "  -> /content/data/data/g1pB_taske.txt | sim=0.970 ⛳\n"
          ]
        }
      ]
    },
    {
      "cell_type": "markdown",
      "source": [
        "# Calculate accuracy"
      ],
      "metadata": {
        "id": "2QgpSytocX6N"
      }
    },
    {
      "cell_type": "code",
      "source": [
        "import re\n",
        "def extract_id(path):\n",
        "    s = Path(path).stem\n",
        "    m = re.findall(r\"\\d+\", s)\n",
        "    return m[0] if m else s.lower()\n",
        "\n",
        "id2src = {}\n",
        "for doc_id, _ in src_items:\n",
        "    id2src.setdefault(extract_id(doc_id), []).append(doc_id)\n",
        "\n",
        "correct = total = 0\n",
        "for q_id, q_text in qry_items:\n",
        "    sims = docs.most_similar(q_text, topn=1)\n",
        "    if not sims: continue\n",
        "    total += 1\n",
        "    if extract_id(q_id) in id2src and sims[0][\"doc_id\"] in id2src[extract_id(q_id)]:\n",
        "        correct += 1\n",
        "print(\"Approx. Top-1 Match Accuracy:\", f\"{correct}/{total}\" if total else \"N/A\")\n"
      ],
      "metadata": {
        "colab": {
          "base_uri": "https://localhost:8080/"
        },
        "id": "PCwYsZJGYezp",
        "outputId": "85952045-1850-4812-bb4a-b2ba51a0f740"
      },
      "execution_count": 12,
      "outputs": [
        {
          "output_type": "stream",
          "name": "stdout",
          "text": [
            "Approx. Top-1 Match Accuracy: 0/40\n"
          ]
        }
      ]
    },
    {
      "cell_type": "markdown",
      "source": [
        "# Export csv"
      ],
      "metadata": {
        "id": "GS1MhOexcf5E"
      }
    },
    {
      "cell_type": "code",
      "source": [
        "import pandas as pd\n",
        "\n",
        "rows = []\n",
        "for q_id, q_text in qry_items:\n",
        "    sims = docs.most_similar(q_text, topn=5)\n",
        "    row = {\"query\": q_id}\n",
        "    for i, r in enumerate(sims, 1):\n",
        "        row[f\"rank{i}_doc\"] = r[\"doc_id\"]\n",
        "        row[f\"rank{i}_sim\"] = r[\"similarity\"]\n",
        "    rows.append(row)\n",
        "\n",
        "df = pd.DataFrame(rows).sort_values(\"query\")\n",
        "out_path = \"/content/plagiarism_results_spacy.csv\"\n",
        "df.to_csv(out_path, index=False)\n",
        "print(\"Saved:\", out_path)\n",
        "df.head(10)\n"
      ],
      "metadata": {
        "colab": {
          "base_uri": "https://localhost:8080/",
          "height": 400
        },
        "id": "q4kYOzOfYh3W",
        "outputId": "a5426972-b816-4357-b95f-1703af37eb47"
      },
      "execution_count": 9,
      "outputs": [
        {
          "output_type": "stream",
          "name": "stdout",
          "text": [
            "Saved: /content/plagiarism_results_spacy.csv\n"
          ]
        },
        {
          "output_type": "execute_result",
          "data": {
            "text/plain": [
              "                               query                          rank1_doc  \\\n",
              "0  /content/data/data/g3pA_taska.txt  /content/data/data/g1pA_taska.txt   \n",
              "1  /content/data/data/g3pA_taskb.txt  /content/data/data/g2pA_taskb.txt   \n",
              "2  /content/data/data/g3pA_taskc.txt  /content/data/data/g0pB_taskc.txt   \n",
              "3  /content/data/data/g3pA_taskd.txt  /content/data/data/g2pB_taskd.txt   \n",
              "4  /content/data/data/g3pA_taske.txt  /content/data/data/g1pD_taske.txt   \n",
              "5  /content/data/data/g3pB_taska.txt  /content/data/data/g0pC_taska.txt   \n",
              "6  /content/data/data/g3pB_taskb.txt  /content/data/data/g2pB_taskb.txt   \n",
              "7  /content/data/data/g3pB_taskc.txt  /content/data/data/g0pB_taskc.txt   \n",
              "8  /content/data/data/g3pB_taskd.txt  /content/data/data/g2pB_taskd.txt   \n",
              "9  /content/data/data/g3pB_taske.txt  /content/data/data/g1pB_taske.txt   \n",
              "\n",
              "   rank1_sim                          rank2_doc  rank2_sim  \\\n",
              "0   0.969265  /content/data/data/g1pD_taska.txt   0.965443   \n",
              "1   0.988727  /content/data/data/g2pC_taskb.txt   0.980321   \n",
              "2   0.996321  /content/data/data/g2pA_taskc.txt   0.994757   \n",
              "3   0.997184  /content/data/data/g0pC_taskd.txt   0.994200   \n",
              "4   0.976437  /content/data/data/g2pE_taske.txt   0.973385   \n",
              "5   0.965460  /content/data/data/g1pA_taska.txt   0.965259   \n",
              "6   0.978090  /content/data/data/g0pA_taskb.txt   0.970148   \n",
              "7   0.984724  /content/data/data/g2pB_taskc.txt   0.983115   \n",
              "8   0.954838  /content/data/data/g0pB_taskd.txt   0.950695   \n",
              "9   0.986712  /content/data/data/g0pE_taske.txt   0.986342   \n",
              "\n",
              "                           rank3_doc  rank3_sim  \\\n",
              "0  /content/data/data/g2pC_taska.txt   0.961606   \n",
              "1  /content/data/data/g1pB_taskb.txt   0.979656   \n",
              "2  /content/data/data/g1pB_taskc.txt   0.991706   \n",
              "3  /content/data/data/g0pB_taskd.txt   0.989654   \n",
              "4  /content/data/data/g2pC_taske.txt   0.973071   \n",
              "5  /content/data/data/g2pC_taska.txt   0.959672   \n",
              "6  /content/data/data/g0pB_taskb.txt   0.969855   \n",
              "7  /content/data/data/g2pA_taskc.txt   0.982793   \n",
              "8  /content/data/data/g1pB_taskd.txt   0.948814   \n",
              "9  /content/data/data/g2pB_taske.txt   0.985281   \n",
              "\n",
              "                           rank4_doc  rank4_sim  \\\n",
              "0  /content/data/data/g0pC_taska.txt   0.959104   \n",
              "1  /content/data/data/g0pA_taskb.txt   0.978790   \n",
              "2  /content/data/data/g0pA_taskc.txt   0.991423   \n",
              "3  /content/data/data/g1pA_taskd.txt   0.988410   \n",
              "4  /content/data/data/g2pA_taske.txt   0.971630   \n",
              "5  /content/data/data/g1pD_taska.txt   0.959376   \n",
              "6  /content/data/data/g2pA_taskb.txt   0.965742   \n",
              "7  /content/data/data/g1pB_taskc.txt   0.980698   \n",
              "8  /content/data/data/g0pC_taskd.txt   0.948807   \n",
              "9  /content/data/data/g0pC_taske.txt   0.984930   \n",
              "\n",
              "                           rank5_doc  rank5_sim  \n",
              "0  /content/data/data/g2pE_taska.txt   0.957170  \n",
              "1  /content/data/data/g2pB_taskb.txt   0.977009  \n",
              "2  /content/data/data/g0pD_taskc.txt   0.990199  \n",
              "3  /content/data/data/g1pB_taskd.txt   0.978408  \n",
              "4  /content/data/data/g1pB_taske.txt   0.970268  \n",
              "5  /content/data/data/g2pE_taska.txt   0.957758  \n",
              "6  /content/data/data/g0pE_taskb.txt   0.963196  \n",
              "7  /content/data/data/g0pD_taskc.txt   0.979569  \n",
              "8  /content/data/data/g1pA_taskd.txt   0.944381  \n",
              "9  /content/data/data/g0pB_taske.txt   0.975147  "
            ],
            "text/html": [
              "\n",
              "  <div id=\"df-cf21b167-1e41-4e54-81d9-5409472351b2\" class=\"colab-df-container\">\n",
              "    <div>\n",
              "<style scoped>\n",
              "    .dataframe tbody tr th:only-of-type {\n",
              "        vertical-align: middle;\n",
              "    }\n",
              "\n",
              "    .dataframe tbody tr th {\n",
              "        vertical-align: top;\n",
              "    }\n",
              "\n",
              "    .dataframe thead th {\n",
              "        text-align: right;\n",
              "    }\n",
              "</style>\n",
              "<table border=\"1\" class=\"dataframe\">\n",
              "  <thead>\n",
              "    <tr style=\"text-align: right;\">\n",
              "      <th></th>\n",
              "      <th>query</th>\n",
              "      <th>rank1_doc</th>\n",
              "      <th>rank1_sim</th>\n",
              "      <th>rank2_doc</th>\n",
              "      <th>rank2_sim</th>\n",
              "      <th>rank3_doc</th>\n",
              "      <th>rank3_sim</th>\n",
              "      <th>rank4_doc</th>\n",
              "      <th>rank4_sim</th>\n",
              "      <th>rank5_doc</th>\n",
              "      <th>rank5_sim</th>\n",
              "    </tr>\n",
              "  </thead>\n",
              "  <tbody>\n",
              "    <tr>\n",
              "      <th>0</th>\n",
              "      <td>/content/data/data/g3pA_taska.txt</td>\n",
              "      <td>/content/data/data/g1pA_taska.txt</td>\n",
              "      <td>0.969265</td>\n",
              "      <td>/content/data/data/g1pD_taska.txt</td>\n",
              "      <td>0.965443</td>\n",
              "      <td>/content/data/data/g2pC_taska.txt</td>\n",
              "      <td>0.961606</td>\n",
              "      <td>/content/data/data/g0pC_taska.txt</td>\n",
              "      <td>0.959104</td>\n",
              "      <td>/content/data/data/g2pE_taska.txt</td>\n",
              "      <td>0.957170</td>\n",
              "    </tr>\n",
              "    <tr>\n",
              "      <th>1</th>\n",
              "      <td>/content/data/data/g3pA_taskb.txt</td>\n",
              "      <td>/content/data/data/g2pA_taskb.txt</td>\n",
              "      <td>0.988727</td>\n",
              "      <td>/content/data/data/g2pC_taskb.txt</td>\n",
              "      <td>0.980321</td>\n",
              "      <td>/content/data/data/g1pB_taskb.txt</td>\n",
              "      <td>0.979656</td>\n",
              "      <td>/content/data/data/g0pA_taskb.txt</td>\n",
              "      <td>0.978790</td>\n",
              "      <td>/content/data/data/g2pB_taskb.txt</td>\n",
              "      <td>0.977009</td>\n",
              "    </tr>\n",
              "    <tr>\n",
              "      <th>2</th>\n",
              "      <td>/content/data/data/g3pA_taskc.txt</td>\n",
              "      <td>/content/data/data/g0pB_taskc.txt</td>\n",
              "      <td>0.996321</td>\n",
              "      <td>/content/data/data/g2pA_taskc.txt</td>\n",
              "      <td>0.994757</td>\n",
              "      <td>/content/data/data/g1pB_taskc.txt</td>\n",
              "      <td>0.991706</td>\n",
              "      <td>/content/data/data/g0pA_taskc.txt</td>\n",
              "      <td>0.991423</td>\n",
              "      <td>/content/data/data/g0pD_taskc.txt</td>\n",
              "      <td>0.990199</td>\n",
              "    </tr>\n",
              "    <tr>\n",
              "      <th>3</th>\n",
              "      <td>/content/data/data/g3pA_taskd.txt</td>\n",
              "      <td>/content/data/data/g2pB_taskd.txt</td>\n",
              "      <td>0.997184</td>\n",
              "      <td>/content/data/data/g0pC_taskd.txt</td>\n",
              "      <td>0.994200</td>\n",
              "      <td>/content/data/data/g0pB_taskd.txt</td>\n",
              "      <td>0.989654</td>\n",
              "      <td>/content/data/data/g1pA_taskd.txt</td>\n",
              "      <td>0.988410</td>\n",
              "      <td>/content/data/data/g1pB_taskd.txt</td>\n",
              "      <td>0.978408</td>\n",
              "    </tr>\n",
              "    <tr>\n",
              "      <th>4</th>\n",
              "      <td>/content/data/data/g3pA_taske.txt</td>\n",
              "      <td>/content/data/data/g1pD_taske.txt</td>\n",
              "      <td>0.976437</td>\n",
              "      <td>/content/data/data/g2pE_taske.txt</td>\n",
              "      <td>0.973385</td>\n",
              "      <td>/content/data/data/g2pC_taske.txt</td>\n",
              "      <td>0.973071</td>\n",
              "      <td>/content/data/data/g2pA_taske.txt</td>\n",
              "      <td>0.971630</td>\n",
              "      <td>/content/data/data/g1pB_taske.txt</td>\n",
              "      <td>0.970268</td>\n",
              "    </tr>\n",
              "    <tr>\n",
              "      <th>5</th>\n",
              "      <td>/content/data/data/g3pB_taska.txt</td>\n",
              "      <td>/content/data/data/g0pC_taska.txt</td>\n",
              "      <td>0.965460</td>\n",
              "      <td>/content/data/data/g1pA_taska.txt</td>\n",
              "      <td>0.965259</td>\n",
              "      <td>/content/data/data/g2pC_taska.txt</td>\n",
              "      <td>0.959672</td>\n",
              "      <td>/content/data/data/g1pD_taska.txt</td>\n",
              "      <td>0.959376</td>\n",
              "      <td>/content/data/data/g2pE_taska.txt</td>\n",
              "      <td>0.957758</td>\n",
              "    </tr>\n",
              "    <tr>\n",
              "      <th>6</th>\n",
              "      <td>/content/data/data/g3pB_taskb.txt</td>\n",
              "      <td>/content/data/data/g2pB_taskb.txt</td>\n",
              "      <td>0.978090</td>\n",
              "      <td>/content/data/data/g0pA_taskb.txt</td>\n",
              "      <td>0.970148</td>\n",
              "      <td>/content/data/data/g0pB_taskb.txt</td>\n",
              "      <td>0.969855</td>\n",
              "      <td>/content/data/data/g2pA_taskb.txt</td>\n",
              "      <td>0.965742</td>\n",
              "      <td>/content/data/data/g0pE_taskb.txt</td>\n",
              "      <td>0.963196</td>\n",
              "    </tr>\n",
              "    <tr>\n",
              "      <th>7</th>\n",
              "      <td>/content/data/data/g3pB_taskc.txt</td>\n",
              "      <td>/content/data/data/g0pB_taskc.txt</td>\n",
              "      <td>0.984724</td>\n",
              "      <td>/content/data/data/g2pB_taskc.txt</td>\n",
              "      <td>0.983115</td>\n",
              "      <td>/content/data/data/g2pA_taskc.txt</td>\n",
              "      <td>0.982793</td>\n",
              "      <td>/content/data/data/g1pB_taskc.txt</td>\n",
              "      <td>0.980698</td>\n",
              "      <td>/content/data/data/g0pD_taskc.txt</td>\n",
              "      <td>0.979569</td>\n",
              "    </tr>\n",
              "    <tr>\n",
              "      <th>8</th>\n",
              "      <td>/content/data/data/g3pB_taskd.txt</td>\n",
              "      <td>/content/data/data/g2pB_taskd.txt</td>\n",
              "      <td>0.954838</td>\n",
              "      <td>/content/data/data/g0pB_taskd.txt</td>\n",
              "      <td>0.950695</td>\n",
              "      <td>/content/data/data/g1pB_taskd.txt</td>\n",
              "      <td>0.948814</td>\n",
              "      <td>/content/data/data/g0pC_taskd.txt</td>\n",
              "      <td>0.948807</td>\n",
              "      <td>/content/data/data/g1pA_taskd.txt</td>\n",
              "      <td>0.944381</td>\n",
              "    </tr>\n",
              "    <tr>\n",
              "      <th>9</th>\n",
              "      <td>/content/data/data/g3pB_taske.txt</td>\n",
              "      <td>/content/data/data/g1pB_taske.txt</td>\n",
              "      <td>0.986712</td>\n",
              "      <td>/content/data/data/g0pE_taske.txt</td>\n",
              "      <td>0.986342</td>\n",
              "      <td>/content/data/data/g2pB_taske.txt</td>\n",
              "      <td>0.985281</td>\n",
              "      <td>/content/data/data/g0pC_taske.txt</td>\n",
              "      <td>0.984930</td>\n",
              "      <td>/content/data/data/g0pB_taske.txt</td>\n",
              "      <td>0.975147</td>\n",
              "    </tr>\n",
              "  </tbody>\n",
              "</table>\n",
              "</div>\n",
              "    <div class=\"colab-df-buttons\">\n",
              "\n",
              "  <div class=\"colab-df-container\">\n",
              "    <button class=\"colab-df-convert\" onclick=\"convertToInteractive('df-cf21b167-1e41-4e54-81d9-5409472351b2')\"\n",
              "            title=\"Convert this dataframe to an interactive table.\"\n",
              "            style=\"display:none;\">\n",
              "\n",
              "  <svg xmlns=\"http://www.w3.org/2000/svg\" height=\"24px\" viewBox=\"0 -960 960 960\">\n",
              "    <path d=\"M120-120v-720h720v720H120Zm60-500h600v-160H180v160Zm220 220h160v-160H400v160Zm0 220h160v-160H400v160ZM180-400h160v-160H180v160Zm440 0h160v-160H620v160ZM180-180h160v-160H180v160Zm440 0h160v-160H620v160Z\"/>\n",
              "  </svg>\n",
              "    </button>\n",
              "\n",
              "  <style>\n",
              "    .colab-df-container {\n",
              "      display:flex;\n",
              "      gap: 12px;\n",
              "    }\n",
              "\n",
              "    .colab-df-convert {\n",
              "      background-color: #E8F0FE;\n",
              "      border: none;\n",
              "      border-radius: 50%;\n",
              "      cursor: pointer;\n",
              "      display: none;\n",
              "      fill: #1967D2;\n",
              "      height: 32px;\n",
              "      padding: 0 0 0 0;\n",
              "      width: 32px;\n",
              "    }\n",
              "\n",
              "    .colab-df-convert:hover {\n",
              "      background-color: #E2EBFA;\n",
              "      box-shadow: 0px 1px 2px rgba(60, 64, 67, 0.3), 0px 1px 3px 1px rgba(60, 64, 67, 0.15);\n",
              "      fill: #174EA6;\n",
              "    }\n",
              "\n",
              "    .colab-df-buttons div {\n",
              "      margin-bottom: 4px;\n",
              "    }\n",
              "\n",
              "    [theme=dark] .colab-df-convert {\n",
              "      background-color: #3B4455;\n",
              "      fill: #D2E3FC;\n",
              "    }\n",
              "\n",
              "    [theme=dark] .colab-df-convert:hover {\n",
              "      background-color: #434B5C;\n",
              "      box-shadow: 0px 1px 3px 1px rgba(0, 0, 0, 0.15);\n",
              "      filter: drop-shadow(0px 1px 2px rgba(0, 0, 0, 0.3));\n",
              "      fill: #FFFFFF;\n",
              "    }\n",
              "  </style>\n",
              "\n",
              "    <script>\n",
              "      const buttonEl =\n",
              "        document.querySelector('#df-cf21b167-1e41-4e54-81d9-5409472351b2 button.colab-df-convert');\n",
              "      buttonEl.style.display =\n",
              "        google.colab.kernel.accessAllowed ? 'block' : 'none';\n",
              "\n",
              "      async function convertToInteractive(key) {\n",
              "        const element = document.querySelector('#df-cf21b167-1e41-4e54-81d9-5409472351b2');\n",
              "        const dataTable =\n",
              "          await google.colab.kernel.invokeFunction('convertToInteractive',\n",
              "                                                    [key], {});\n",
              "        if (!dataTable) return;\n",
              "\n",
              "        const docLinkHtml = 'Like what you see? Visit the ' +\n",
              "          '<a target=\"_blank\" href=https://colab.research.google.com/notebooks/data_table.ipynb>data table notebook</a>'\n",
              "          + ' to learn more about interactive tables.';\n",
              "        element.innerHTML = '';\n",
              "        dataTable['output_type'] = 'display_data';\n",
              "        await google.colab.output.renderOutput(dataTable, element);\n",
              "        const docLink = document.createElement('div');\n",
              "        docLink.innerHTML = docLinkHtml;\n",
              "        element.appendChild(docLink);\n",
              "      }\n",
              "    </script>\n",
              "  </div>\n",
              "\n",
              "\n",
              "    <div id=\"df-8a0a6730-44fb-47fc-ad1d-48371ef4c4f0\">\n",
              "      <button class=\"colab-df-quickchart\" onclick=\"quickchart('df-8a0a6730-44fb-47fc-ad1d-48371ef4c4f0')\"\n",
              "                title=\"Suggest charts\"\n",
              "                style=\"display:none;\">\n",
              "\n",
              "<svg xmlns=\"http://www.w3.org/2000/svg\" height=\"24px\"viewBox=\"0 0 24 24\"\n",
              "     width=\"24px\">\n",
              "    <g>\n",
              "        <path d=\"M19 3H5c-1.1 0-2 .9-2 2v14c0 1.1.9 2 2 2h14c1.1 0 2-.9 2-2V5c0-1.1-.9-2-2-2zM9 17H7v-7h2v7zm4 0h-2V7h2v10zm4 0h-2v-4h2v4z\"/>\n",
              "    </g>\n",
              "</svg>\n",
              "      </button>\n",
              "\n",
              "<style>\n",
              "  .colab-df-quickchart {\n",
              "      --bg-color: #E8F0FE;\n",
              "      --fill-color: #1967D2;\n",
              "      --hover-bg-color: #E2EBFA;\n",
              "      --hover-fill-color: #174EA6;\n",
              "      --disabled-fill-color: #AAA;\n",
              "      --disabled-bg-color: #DDD;\n",
              "  }\n",
              "\n",
              "  [theme=dark] .colab-df-quickchart {\n",
              "      --bg-color: #3B4455;\n",
              "      --fill-color: #D2E3FC;\n",
              "      --hover-bg-color: #434B5C;\n",
              "      --hover-fill-color: #FFFFFF;\n",
              "      --disabled-bg-color: #3B4455;\n",
              "      --disabled-fill-color: #666;\n",
              "  }\n",
              "\n",
              "  .colab-df-quickchart {\n",
              "    background-color: var(--bg-color);\n",
              "    border: none;\n",
              "    border-radius: 50%;\n",
              "    cursor: pointer;\n",
              "    display: none;\n",
              "    fill: var(--fill-color);\n",
              "    height: 32px;\n",
              "    padding: 0;\n",
              "    width: 32px;\n",
              "  }\n",
              "\n",
              "  .colab-df-quickchart:hover {\n",
              "    background-color: var(--hover-bg-color);\n",
              "    box-shadow: 0 1px 2px rgba(60, 64, 67, 0.3), 0 1px 3px 1px rgba(60, 64, 67, 0.15);\n",
              "    fill: var(--button-hover-fill-color);\n",
              "  }\n",
              "\n",
              "  .colab-df-quickchart-complete:disabled,\n",
              "  .colab-df-quickchart-complete:disabled:hover {\n",
              "    background-color: var(--disabled-bg-color);\n",
              "    fill: var(--disabled-fill-color);\n",
              "    box-shadow: none;\n",
              "  }\n",
              "\n",
              "  .colab-df-spinner {\n",
              "    border: 2px solid var(--fill-color);\n",
              "    border-color: transparent;\n",
              "    border-bottom-color: var(--fill-color);\n",
              "    animation:\n",
              "      spin 1s steps(1) infinite;\n",
              "  }\n",
              "\n",
              "  @keyframes spin {\n",
              "    0% {\n",
              "      border-color: transparent;\n",
              "      border-bottom-color: var(--fill-color);\n",
              "      border-left-color: var(--fill-color);\n",
              "    }\n",
              "    20% {\n",
              "      border-color: transparent;\n",
              "      border-left-color: var(--fill-color);\n",
              "      border-top-color: var(--fill-color);\n",
              "    }\n",
              "    30% {\n",
              "      border-color: transparent;\n",
              "      border-left-color: var(--fill-color);\n",
              "      border-top-color: var(--fill-color);\n",
              "      border-right-color: var(--fill-color);\n",
              "    }\n",
              "    40% {\n",
              "      border-color: transparent;\n",
              "      border-right-color: var(--fill-color);\n",
              "      border-top-color: var(--fill-color);\n",
              "    }\n",
              "    60% {\n",
              "      border-color: transparent;\n",
              "      border-right-color: var(--fill-color);\n",
              "    }\n",
              "    80% {\n",
              "      border-color: transparent;\n",
              "      border-right-color: var(--fill-color);\n",
              "      border-bottom-color: var(--fill-color);\n",
              "    }\n",
              "    90% {\n",
              "      border-color: transparent;\n",
              "      border-bottom-color: var(--fill-color);\n",
              "    }\n",
              "  }\n",
              "</style>\n",
              "\n",
              "      <script>\n",
              "        async function quickchart(key) {\n",
              "          const quickchartButtonEl =\n",
              "            document.querySelector('#' + key + ' button');\n",
              "          quickchartButtonEl.disabled = true;  // To prevent multiple clicks.\n",
              "          quickchartButtonEl.classList.add('colab-df-spinner');\n",
              "          try {\n",
              "            const charts = await google.colab.kernel.invokeFunction(\n",
              "                'suggestCharts', [key], {});\n",
              "          } catch (error) {\n",
              "            console.error('Error during call to suggestCharts:', error);\n",
              "          }\n",
              "          quickchartButtonEl.classList.remove('colab-df-spinner');\n",
              "          quickchartButtonEl.classList.add('colab-df-quickchart-complete');\n",
              "        }\n",
              "        (() => {\n",
              "          let quickchartButtonEl =\n",
              "            document.querySelector('#df-8a0a6730-44fb-47fc-ad1d-48371ef4c4f0 button');\n",
              "          quickchartButtonEl.style.display =\n",
              "            google.colab.kernel.accessAllowed ? 'block' : 'none';\n",
              "        })();\n",
              "      </script>\n",
              "    </div>\n",
              "\n",
              "    </div>\n",
              "  </div>\n"
            ],
            "application/vnd.google.colaboratory.intrinsic+json": {
              "type": "dataframe",
              "variable_name": "df",
              "summary": "{\n  \"name\": \"df\",\n  \"rows\": 40,\n  \"fields\": [\n    {\n      \"column\": \"query\",\n      \"properties\": {\n        \"dtype\": \"string\",\n        \"num_unique_values\": 40,\n        \"samples\": [\n          \"/content/data/data/g4pB_taske.txt\",\n          \"/content/data/data/g4pB_taskb.txt\",\n          \"/content/data/data/g4pB_taska.txt\"\n        ],\n        \"semantic_type\": \"\",\n        \"description\": \"\"\n      }\n    },\n    {\n      \"column\": \"rank1_doc\",\n      \"properties\": {\n        \"dtype\": \"string\",\n        \"num_unique_values\": 23,\n        \"samples\": [\n          \"/content/data/data/g2pA_taske.txt\",\n          \"/content/data/data/g0pA_taskb.txt\",\n          \"/content/data/data/g1pA_taska.txt\"\n        ],\n        \"semantic_type\": \"\",\n        \"description\": \"\"\n      }\n    },\n    {\n      \"column\": \"rank1_sim\",\n      \"properties\": {\n        \"dtype\": \"number\",\n        \"std\": 0.01371345750408329,\n        \"min\": 0.9548383355140686,\n        \"max\": 0.9996418356895447,\n        \"num_unique_values\": 40,\n        \"samples\": [\n          0.984687328338623,\n          0.9681093096733093,\n          0.9624873399734497\n        ],\n        \"semantic_type\": \"\",\n        \"description\": \"\"\n      }\n    },\n    {\n      \"column\": \"rank2_doc\",\n      \"properties\": {\n        \"dtype\": \"string\",\n        \"num_unique_values\": 25,\n        \"samples\": [\n          \"/content/data/data/g0pB_taskd.txt\",\n          \"/content/data/data/g0pB_taskc.txt\",\n          \"/content/data/data/g1pD_taska.txt\"\n        ],\n        \"semantic_type\": \"\",\n        \"description\": \"\"\n      }\n    },\n    {\n      \"column\": \"rank2_sim\",\n      \"properties\": {\n        \"dtype\": \"number\",\n        \"std\": 0.014807147578439832,\n        \"min\": 0.9477360248565674,\n        \"max\": 0.9978581666946411,\n        \"num_unique_values\": 40,\n        \"samples\": [\n          0.9833253026008606,\n          0.9670341610908508,\n          0.9583325386047363\n        ],\n        \"semantic_type\": \"\",\n        \"description\": \"\"\n      }\n    },\n    {\n      \"column\": \"rank3_doc\",\n      \"properties\": {\n        \"dtype\": \"string\",\n        \"num_unique_values\": 26,\n        \"samples\": [\n          \"/content/data/data/g2pB_taske.txt\",\n          \"/content/data/data/g0pD_taska.txt\",\n          \"/content/data/data/g2pC_taska.txt\"\n        ],\n        \"semantic_type\": \"\",\n        \"description\": \"\"\n      }\n    },\n    {\n      \"column\": \"rank3_sim\",\n      \"properties\": {\n        \"dtype\": \"number\",\n        \"std\": 0.014671602481572031,\n        \"min\": 0.9467060565948486,\n        \"max\": 0.9961235523223877,\n        \"num_unique_values\": 40,\n        \"samples\": [\n          0.9832204580307007,\n          0.9606678485870361,\n          0.9553235769271851\n        ],\n        \"semantic_type\": \"\",\n        \"description\": \"\"\n      }\n    },\n    {\n      \"column\": \"rank4_doc\",\n      \"properties\": {\n        \"dtype\": \"string\",\n        \"num_unique_values\": 26,\n        \"samples\": [\n          \"/content/data/data/g0pC_taskd.txt\",\n          \"/content/data/data/g0pC_taskb.txt\",\n          \"/content/data/data/g0pC_taska.txt\"\n        ],\n        \"semantic_type\": \"\",\n        \"description\": \"\"\n      }\n    },\n    {\n      \"column\": \"rank4_sim\",\n      \"properties\": {\n        \"dtype\": \"number\",\n        \"std\": 0.01722215899966819,\n        \"min\": 0.9226855039596558,\n        \"max\": 0.9931671619415283,\n        \"num_unique_values\": 40,\n        \"samples\": [\n          0.9816052317619324,\n          0.9594940543174744,\n          0.9551307559013367\n        ],\n        \"semantic_type\": \"\",\n        \"description\": \"\"\n      }\n    },\n    {\n      \"column\": \"rank5_doc\",\n      \"properties\": {\n        \"dtype\": \"string\",\n        \"num_unique_values\": 23,\n        \"samples\": [\n          \"/content/data/data/g0pE_taske.txt\",\n          \"/content/data/data/g0pB_taskc.txt\",\n          \"/content/data/data/g2pE_taska.txt\"\n        ],\n        \"semantic_type\": \"\",\n        \"description\": \"\"\n      }\n    },\n    {\n      \"column\": \"rank5_sim\",\n      \"properties\": {\n        \"dtype\": \"number\",\n        \"std\": 0.017197104574474435,\n        \"min\": 0.9161208868026733,\n        \"max\": 0.9921451807022095,\n        \"num_unique_values\": 40,\n        \"samples\": [\n          0.9797624349594116,\n          0.9570161700248718,\n          0.952337384223938\n        ],\n        \"semantic_type\": \"\",\n        \"description\": \"\"\n      }\n    }\n  ]\n}"
            }
          },
          "metadata": {},
          "execution_count": 9
        }
      ]
    }
  ]
}
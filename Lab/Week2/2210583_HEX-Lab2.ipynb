{
 "cells": [
  {
   "cell_type": "markdown",
   "metadata": {
    "id": "kFD7DVZ-xKdT"
   },
   "source": [
    "# Homework Lab 2: Text Preprocessing with Vietnamese\n",
    "**Overview:** In this exercise, we will build a text preprocessing program for Vietnamese."
   ]
  },
  {
   "cell_type": "markdown",
   "metadata": {
    "id": "XOAeiqdrxKdt"
   },
   "source": [
    "Import the necessary libraries. Note that we are using the underthesea library for Vietnamese tokenization. To install it, follow the instructions below. ([link](https://github.com/undertheseanlp/underthesea))"
   ]
  },
  {
   "cell_type": "code",
   "execution_count": 4,
   "metadata": {},
   "outputs": [],
   "source": [
    "import os,glob\n",
    "import codecs\n",
    "import sys\n",
    "import re\n",
    "from underthesea import word_tokenize"
   ]
  },
  {
   "cell_type": "code",
   "execution_count": null,
   "metadata": {},
   "outputs": [],
   "source": []
  },
  {
   "cell_type": "markdown",
   "metadata": {
    "id": "hC27lBQZxKdw"
   },
   "source": [
    "## Question 1: Create a Corpus and Survey the Data\n",
    "\n",
    "The data in this section is partially extracted from the [VNTC](https://github.com/duyvuleo/VNTC) dataset. VNTC is a Vietnamese news dataset covering various topics. In this section, we will only process the science topic from VNTC. We will create a corpus from both the train and test directories. Complete the following program:\n",
    "\n",
    "- Write `sentences_list` to a file named `dataset_name.txt`, with each element as a document on a separate line.\n",
    "- Check how many documents are in the corpus.\n"
   ]
  },
  {
   "cell_type": "code",
   "execution_count": 5,
   "metadata": {
    "id": "GyNKT8wAxKdx",
    "outputId": "b2eb7c10-da8d-49cb-8b7d-4f6543700cbf"
   },
   "outputs": [
    {
     "name": "stdout",
     "output_type": "stream",
     "text": [
      "train labels = test labels\n",
      "Number of documents in corpus: 84132\n"
     ]
    }
   ],
   "source": [
    "dataset_name = \"VNTC_khoahoc\"\n",
    "path = ['./VNTC_khoahoc/Train_Full/', './VNTC_khoahoc/Test_Full/']\n",
    "\n",
    "if os.listdir(path[0]) == os.listdir(path[1]):\n",
    "    folder_list = [os.listdir(path[0]), os.listdir(path[1])]\n",
    "    print(\"train labels = test labels\")\n",
    "else:\n",
    "    print(\"train labels differ from test labels\")\n",
    "\n",
    "doc_num = 0\n",
    "sentences_list = []\n",
    "meta_data_list = []\n",
    "for i in range(2):\n",
    "    for folder_name in folder_list[i]:\n",
    "        folder_path = path[i] + folder_name\n",
    "        if folder_name[0] != \".\":\n",
    "            for file_name in glob.glob(os.path.join(folder_path, '*.txt')):\n",
    "                # Read the file content into f\n",
    "                f = codecs.open(file_name, 'br')\n",
    "                # Convert the data to UTF-16 format for Vietnamese text\n",
    "                file_content = (f.read().decode(\"utf-16\")).replace(\"\\r\\n\", \" \")\n",
    "                sentences_list.append(file_content.strip())\n",
    "                f.close\n",
    "                # Count the number of documents\n",
    "                doc_num += 1\n",
    "\n",
    "#### YOUR CODE HERE ####\n",
    "with open(f\"{dataset_name}.txt\", \"w\", encoding=\"utf-8\") as out_f:\n",
    "    for sentence in sentences_list:\n",
    "        out_f.write(sentence + \"\\n\")\n",
    "\n",
    "print(f\"Number of documents in corpus: {doc_num}\")#### END YOUR CODE #####"
   ]
  },
  {
   "cell_type": "markdown",
   "metadata": {},
   "source": [
    "## Question 2: Write Preprocessing Functions\n",
    "\n",
    "\n",
    "\n",
    "\n",
    "\n"
   ]
  },
  {
   "cell_type": "markdown",
   "metadata": {
    "id": "3KXHcDpuxKd0"
   },
   "source": [
    "### Question 2.1: Write a Function to Clean Text\n",
    "Hint:\n",
    "- The text should only retain the following characters: aAàÀảẢãÃáÁạẠăĂằẰẳẲẵẴắẮặẶâÂầẦẩẨẫẪấẤậẬbBcCdDđĐeEèÈẻẺẽẼéÉẹẸêÊềỀểỂễỄếẾệỆfFgGhHiIìÌỉỈĩĨíÍịỊjJkKlLmMnNoOòÒỏỎõÕóÓọỌôÔồỒổỔỗỖốỐộỘơƠờỜởỞỡỠớỚợỢpPqQrRsStTuUùÙủỦũŨúÚụỤưƯừỪửỬữỮứỨựỰvVwWxXyYỳỲỷỶỹỸýÝỵỴzZ0-9(),!?\\'\\\n",
    "- Then trim the whitespace in the input text."
   ]
  },
  {
   "cell_type": "code",
   "execution_count": 15,
   "metadata": {
    "id": "k8hIglDXxKd0"
   },
   "outputs": [],
   "source": [
    "def clean_str(string):\n",
    "    #### YOUR CODE HERE ####\n",
    "    pattern = r\"[^aAàÀảẢãÃáÁạẠăĂằẰẳẲẵẴắẮặẶâÂầẦẩẨẫẪấẤậẬ\" \\\n",
    "              r\"bBcCdDđĐeEèÈẻẺẽẼéÉẹẸêÊềỀểỂễỄếẾệỆ\" \\\n",
    "              r\"fFgGhHiIìÌỉỈĩĨíÍịỊjJkKlLmMnNoOòÒỏỎõÕóÓọỌ\" \\\n",
    "              r\"ôÔồỒổỔỗỖốỐộỘơƠờỜởỞỡỠớỚợỢ\" \\\n",
    "              r\"pPqQrRsStTuUùÙủỦũŨúÚụỤưƯừỪửỬữỮứỨựỰ\" \\\n",
    "              r\"vVwWxXyYỳỲỷỶỹỸýÝỵỴzZ0-9(),!?\\'\\\\s]\"\n",
    "    \n",
    "    # Thay các ký tự không hợp lệ thành rỗng\n",
    "    cleaned = re.sub(pattern, \"\", string)\n",
    "    \n",
    "    # Chuẩn hoá khoảng trắng (xóa khoảng trắng thừa)\n",
    "    cleaned = re.sub(r\"\\s+\", \" \", cleaned).strip()\n",
    "    \n",
    "    return cleaned\n",
    "    #### END YOUR CODE #####"
   ]
  },
  {
   "cell_type": "markdown",
   "metadata": {
    "id": "9KfXstqAxKd1"
   },
   "source": [
    "### Question 2.2: Write a Function to Convert Text to Lowercase"
   ]
  },
  {
   "cell_type": "code",
   "execution_count": 7,
   "metadata": {
    "id": "KRwgVjxhxKd1"
   },
   "outputs": [],
   "source": [
    "# make all text lowercase\n",
    "def text_lowercase(string):\n",
    "    #### YOUR CODE HERE ####\n",
    "    return string.lower()\n",
    "    #### END YOUR CODE #####"
   ]
  },
  {
   "cell_type": "markdown",
   "metadata": {
    "id": "rYM_GO_5xKd2"
   },
   "source": [
    "### Question 2.3: Tokenize Words\n",
    "Hint: Use the `word_tokenize()` function imported above with two parameters: `strings` and `format=\"text\"`.\n"
   ]
  },
  {
   "cell_type": "code",
   "execution_count": 12,
   "metadata": {
    "id": "pty34NwyxKd2"
   },
   "outputs": [],
   "source": [
    "def tokenize(strings):\n",
    "    #### YOUR CODE HERE ####\n",
    "    tokenized_text = word_tokenize(strings, format=\"text\")\n",
    "    # Chia thành list token\n",
    "    return tokenized_text.split()\n",
    "    #### END YOUR CODE #####"
   ]
  },
  {
   "cell_type": "markdown",
   "metadata": {
    "id": "-gQGmL4gxKd2"
   },
   "source": [
    "### Question 2.4: Remove Stop Words\n",
    "To remove stop words, we use a list of Vietnamese stop words stored in the file `./vietnamese-stopwords.txt`. Complete the following program:\n",
    "- Check each word in the text (`strings`). If a word is not in the stop words list, add it to `doc_words`.\n"
   ]
  },
  {
   "cell_type": "code",
   "execution_count": 13,
   "metadata": {
    "id": "aqStv2rPxKd3"
   },
   "outputs": [],
   "source": [
    "def remove_stopwords(strings):\n",
    "    #### YOUR CODE HERE ####\n",
    "    with open(\"./vietnamese-stopwords.txt\", encoding=\"utf-8\") as f:\n",
    "        stop_words = set([line.strip() for line in f if line.strip() != \"\"])\n",
    "\n",
    "    doc_words = []\n",
    "    for w in strings:\n",
    "        if w.lower() not in stop_words:\n",
    "            doc_words.append(w)\n",
    "\n",
    "    return doc_words\n",
    "    #### END YOUR CODE #####"
   ]
  },
  {
   "cell_type": "markdown",
   "metadata": {
    "id": "jUNOKigIxKd4"
   },
   "source": [
    "## Question 2.5: Build a Preprocessing Function\n",
    "Hint: Call the functions `clean_str`, `text_lowercase`, `tokenize`, and `remove_stopwords` in order, then return the result from the function.\n"
   ]
  },
  {
   "cell_type": "code",
   "execution_count": 10,
   "metadata": {
    "id": "_vd-el91xKd_"
   },
   "outputs": [],
   "source": [
    "def text_preprocessing(strings):\n",
    "    #### YOUR CODE HERE ####\n",
    "    cleaned = clean_str(strings)\n",
    "    lowered = text_lowercase(cleaned)\n",
    "    tokens = tokenize(lowered)\n",
    "    filtered = remove_stopwords(tokens)\n",
    "    \n",
    "    return filtered\n",
    "    #### END YOUR CODE #####\n"
   ]
  },
  {
   "cell_type": "markdown",
   "metadata": {
    "id": "1BGOqa1mxKeA"
   },
   "source": [
    "## Question 3: Perform Preprocessing\n",
    "Now, we will read the corpus from the file created in Question 1. After that, we will call the preprocessing function for each document in the corpus.\n",
    "\n",
    "Hint: Call the `text_preprocessing()` function with `doc_content` as the input parameter and save the result in the variable `temp1`.\n"
   ]
  },
  {
   "cell_type": "code",
   "execution_count": 16,
   "metadata": {},
   "outputs": [
    {
     "name": "stdout",
     "output_type": "stream",
     "text": [
      "\n",
      "length of clean_docs =  84132\n",
      "clean_docs[0]:\n",
      "thànhlậpdựánpolicyphòngchốnghivaidsởvn ( nlđ ) quỹhỗtrợkhẩncấpvềaidscủahoakỳvừathànhlậpdựánpolicytạivnvớicamkếthỗtrợchínhphủvànhândânvnđốiphóhivaidsdựáncónhiệmvụchínhlàcảithiệncôngtácphòngchốnghivaidsthôngquacáclĩnhvựcxâydựngchínhsách , ràsoátcácvănbảnphápluật , xâydựngchiếnlượcquảngbá , xâydựngchươngtrìnhđàotạovềphòngchốnghivaids , lênkếhoạchbốtrínguồnlực , huấnluyệnvànghiêncứuvềphươngtiệntruyềnthôngđạichúng , tổchứccáchoạtđộngnhằmgiảmkỳthịvàphânbiệtđốixửđốivớingườicóhivaidstheottxvn , dựánpolicyđặcbiệtquantâmđếncôngtáctruyềnthôngphòngchốnghivaids , coiđâylàmộtbiệnpháptíchcựcvàhữuhiệutrongviệcphòngchốngcóhiệuquảhivaidsthờigiantới , dựánpolicysẽtiếptụctổchứccáchoạtđộngnhằmnângcaonhậnthứcchonhữngngườicótráchnhiệmvớicôngtácchỉđạophòngchốnghivaids\n"
     ]
    }
   ],
   "source": [
    "#### YOUR CODE HERE ####\n",
    "clean_docs = []\n",
    "with open(f\"{dataset_name}.txt\", \"r\", encoding=\"utf-8\") as f:\n",
    "    for line in f:\n",
    "        doc_content = line.strip()\n",
    "        if doc_content:  # bỏ dòng trống\n",
    "            temp1 = text_preprocessing(doc_content)\n",
    "            # nếu preprocessing trả về list tokens thì nối lại thành string\n",
    "            if isinstance(temp1, list):\n",
    "                clean_docs.append(\" \".join(temp1))\n",
    "            else:\n",
    "                clean_docs.append(temp1)\n",
    "#### END YOUR CODE #####\n",
    "\n",
    "print(\"\\nlength of clean_docs = \", len(clean_docs))\n",
    "print('clean_docs[0]:\\n' + clean_docs[0])\n"
   ]
  },
  {
   "cell_type": "markdown",
   "metadata": {
    "id": "SFhai6BwxKeB"
   },
   "source": [
    "## Question 4: Save Preprocessed Data\n",
    "Hint: Save the preprocessed data to a file named `dataset_name + '.clean.txt'`, where each document is written on a separate line.\n"
   ]
  },
  {
   "cell_type": "code",
   "execution_count": 17,
   "metadata": {
    "id": "xfHmSiRrxKeB"
   },
   "outputs": [],
   "source": [
    "#### YOUR CODE HERE ####\n",
    "with open(f\"{dataset_name}.clean.txt\", \"w\", encoding=\"utf-8\") as f:\n",
    "    for doc in clean_docs:\n",
    "        f.write(doc + \"\\n\")\n",
    "#### END YOUR CODE #####"
   ]
  }
 ],
 "metadata": {
  "colab": {
   "provenance": []
  },
  "kernelspec": {
   "display_name": "Python 3",
   "language": "python",
   "name": "python3"
  },
  "language_info": {
   "codemirror_mode": {
    "name": "ipython",
    "version": 3
   },
   "file_extension": ".py",
   "mimetype": "text/x-python",
   "name": "python",
   "nbconvert_exporter": "python",
   "pygments_lexer": "ipython3",
   "version": "3.10.0"
  }
 },
 "nbformat": 4,
 "nbformat_minor": 0
}

{
 "cells": [
  {
   "cell_type": "markdown",
   "metadata": {},
   "source": [
    "# In-Class Exercise on Spam Filtering  \n",
    "In this exercise, we will use powerful tools such as pandas and sklearn to distinguish between spam and regular emails based on the information contained in the emails themselves.\n"
   ]
  },
  {
   "cell_type": "markdown",
   "metadata": {},
   "source": [
    "## Download Data  \n",
    "The data is downloaded using gdown into the same folder as the current file. After downloading, we unzip the received data."
   ]
  },
  {
   "cell_type": "code",
   "execution_count": 1,
   "metadata": {},
   "outputs": [],
   "source": [
    "import pandas as pd"
   ]
  },
  {
   "cell_type": "code",
   "execution_count": null,
   "metadata": {},
   "outputs": [
    {
     "name": "stderr",
     "output_type": "stream",
     "text": [
      "Downloading...\n",
      "From: https://drive.google.com/uc?id=1bTJKchSInd3IgLs41b1_-Gd-T36a_pal\n",
      "To: d:\\DHBK\\251\\NLP\\Lab\\Week4\\in-class\\archive.zip\n",
      "\n",
      "  0%|          | 0.00/1.95M [00:00<?, ?B/s]\n",
      " 27%|██▋       | 524k/1.95M [00:00<00:00, 3.07MB/s]\n",
      " 80%|████████  | 1.57M/1.95M [00:00<00:00, 4.56MB/s]\n",
      "100%|██████████| 1.95M/1.95M [00:00<00:00, 5.36MB/s]\n",
      "'unzip' is not recognized as an internal or external command,\n",
      "operable program or batch file.\n"
     ]
    }
   ],
   "source": [
    "#### YOUR CODE HERE ####\n",
    "!gdown https://drive.google.com/uc?id=1bTJKchSInd3IgLs41b1_-Gd-T36a_pal\n",
    "#### END YOUR CODE #####"
   ]
  },
  {
   "cell_type": "markdown",
   "metadata": {},
   "source": [
    "## Using Pandas for Storage  \n",
    "Pandas is a commonly used library for storing data utilized in machine learning processes, offering functions suitable for large datasets and high performance. We read the data from the unzipped file into a `DataFrame`.\n"
   ]
  },
  {
   "cell_type": "code",
   "execution_count": 2,
   "metadata": {},
   "outputs": [],
   "source": [
    "#### YOUR CODE HERE ####\n",
    "data = pd.read_csv(\"./archive/spam_ham_dataset.csv\")\n",
    "#### END YOUR CODE #####"
   ]
  },
  {
   "cell_type": "markdown",
   "metadata": {},
   "source": [
    "Visualizing Data with 5 Examples "
   ]
  },
  {
   "cell_type": "code",
   "execution_count": 3,
   "metadata": {},
   "outputs": [
    {
     "name": "stdout",
     "output_type": "stream",
     "text": [
      "Index(['Unnamed: 0', 'label', 'text', 'label_num'], dtype='object')\n",
      "   Unnamed: 0 label                                               text  \\\n",
      "0         605   ham  Subject: enron methanol ; meter # : 988291\\r\\n...   \n",
      "1        2349   ham  Subject: hpl nom for january 9 , 2001\\r\\n( see...   \n",
      "2        3624   ham  Subject: neon retreat\\r\\nho ho ho , we ' re ar...   \n",
      "3        4685  spam  Subject: photoshop , windows , office . cheap ...   \n",
      "4        2030   ham  Subject: re : indian springs\\r\\nthis deal is t...   \n",
      "\n",
      "   label_num  \n",
      "0          0  \n",
      "1          0  \n",
      "2          0  \n",
      "3          1  \n",
      "4          0  \n"
     ]
    }
   ],
   "source": [
    "#### YOUR CODE HERE ####\n",
    "print(data.columns)\n",
    "print(data.head(5))\n",
    "#### END YOUR CODE #####"
   ]
  },
  {
   "cell_type": "markdown",
   "metadata": {},
   "source": [
    "## Data Preprocessing  \n",
    "As we can see, the current data contains Windows newline characters `\\r\\n`, which may cause confusion. To simplify, we replace them with spaces. You can also apply additional Pandas methods (e.g., removing the \"Subject:\" prefix, extracting the first line, etc.).\n"
   ]
  },
  {
   "cell_type": "code",
   "execution_count": 4,
   "metadata": {},
   "outputs": [],
   "source": [
    "#### YOUR CODE HERE ####\n",
    "data['text'] = (\n",
    "    data['text']\n",
    "    .str.replace(r'\\r\\n', ' ', regex=True)    \n",
    "    .str.replace(r'^Subject:\\s*', '', regex=True)  \n",
    "    .str.strip()                              \n",
    ")\n",
    "#### END YOUR CODE #####"
   ]
  },
  {
   "cell_type": "markdown",
   "metadata": {},
   "source": [
    "## Building Model  \n",
    "First, we perform vectorization of the input data using `CountVectorizer`, aiming to convert text data into numerical representations. `CountVectorizer` creates a vocabulary of words appearing in the dataset and generates a corresponding vector for each sample, representing the word frequencies within that sample.\n"
   ]
  },
  {
   "cell_type": "code",
   "execution_count": 5,
   "metadata": {},
   "outputs": [
    {
     "name": "stdout",
     "output_type": "stream",
     "text": [
      "Shape of X: (5171, 50447)\n",
      "Sample vocabulary: ['00' '000' '0000' '000000' '000000000002858' '000000000049773' '000080'\n",
      " '000099' '0001' '00018']\n"
     ]
    }
   ],
   "source": [
    "from sklearn.feature_extraction.text import CountVectorizer\n",
    "#### YOUR CODE HERE ####\n",
    "vectorizer = CountVectorizer()\n",
    "\n",
    "X = vectorizer.fit_transform(data['text'])\n",
    "print(\"Shape of X:\", X.shape)\n",
    "print(\"Sample vocabulary:\", vectorizer.get_feature_names_out()[:10])\n",
    "\n",
    "#### END YOUR CODE #####"
   ]
  },
  {
   "cell_type": "markdown",
   "metadata": {},
   "source": [
    "Next, we apply the TF-IDF algorithm to the obtained vector. The output remains a sparse matrix but is now adjusted for the rarity of each word.\n"
   ]
  },
  {
   "cell_type": "code",
   "execution_count": 6,
   "metadata": {},
   "outputs": [
    {
     "name": "stdout",
     "output_type": "stream",
     "text": [
      "Shape of TF-IDF matrix: (5171, 50447)\n"
     ]
    }
   ],
   "source": [
    "from sklearn.feature_extraction.text import TfidfTransformer\n",
    "#### YOUR CODE HERE ####\n",
    "tfidf_transformer = TfidfTransformer()\n",
    "\n",
    "X_tfidf = tfidf_transformer.fit_transform(X)\n",
    "print(\"Shape of TF-IDF matrix:\", X_tfidf.shape)\n",
    "\n",
    "#### END YOUR CODE #####"
   ]
  },
  {
   "cell_type": "markdown",
   "metadata": {},
   "source": [
    "We can generate n-gram data using the `ngram_range` argument in `CountVectorizer`, allowing the program to capture commonly occurring n-word phrases in the dataset.  \n",
    "\n",
    "Additionally, `CountVectorizer` and `TfidfTransformer` have a combined wrapper that integrates both processes into one while accepting their shared arguments: `TfidfVectorizer`.\n"
   ]
  },
  {
   "cell_type": "code",
   "execution_count": 7,
   "metadata": {},
   "outputs": [
    {
     "name": "stdout",
     "output_type": "stream",
     "text": [
      "Shape of TF-IDF (with n-grams): (5171, 312583)\n",
      "Sample vocabulary: ['00' '00 00' '00 000' '00 01' '00 02' '00 03' '00 05' '00 0600' '00 076'\n",
      " '00 08']\n"
     ]
    }
   ],
   "source": [
    "from sklearn.feature_extraction.text import TfidfVectorizer\n",
    "#### YOUR CODE HERE ####\n",
    "vectorizer = TfidfVectorizer(ngram_range=(1,2))\n",
    "X_tfidf_vec = vectorizer.fit_transform(data['text'])\n",
    "\n",
    "print(\"Shape of TF-IDF (with n-grams):\", X_tfidf_vec.shape)\n",
    "print(\"Sample vocabulary:\", vectorizer.get_feature_names_out()[:10])\n",
    "\n",
    "#### END YOUR CODE #####"
   ]
  },
  {
   "cell_type": "markdown",
   "metadata": {},
   "source": [
    "After completing the vectorization steps, we proceed to split the data into training and testing sets to evaluate the model's performance.\n",
    "\n",
    "\n",
    "\n",
    "\n",
    "\n",
    "\n"
   ]
  },
  {
   "cell_type": "code",
   "execution_count": 8,
   "metadata": {},
   "outputs": [
    {
     "name": "stdout",
     "output_type": "stream",
     "text": [
      "Train size: (3619, 50447) Test size: (1552, 50447)\n"
     ]
    }
   ],
   "source": [
    "from sklearn.model_selection import train_test_split\n",
    "#### YOUR CODE HERE ####\n",
    "X_train, X_test, y_train, y_test = train_test_split(\n",
    "    X_tfidf,                 # TF-IDF (or CountVectorizer)\n",
    "    data['label'],          \n",
    "    test_size=0.3,           # 30% test\n",
    "    random_state=42         \n",
    ")\n",
    "print(\"Train size:\", X_train.shape, \"Test size:\", X_test.shape)\n",
    "#### END YOUR CODE #####"
   ]
  },
  {
   "cell_type": "markdown",
   "metadata": {},
   "source": [
    "Once we have the vectorized data, we use a Bayesian model to compute the results, such as `GaussianNB`. Other machine learning models can also be applied here (e.g., `LogisticRegression`, `SVM`).  \n",
    "\n",
    "**Note:** The `todense()` function is used to convert a sparse matrix to a dense matrix, which may cause `MemoryError` for large datasets. Consider using models that support training with sparse matrices or implementing your own solution here.\n"
   ]
  },
  {
   "cell_type": "code",
   "execution_count": 10,
   "metadata": {},
   "outputs": [],
   "source": [
    "from sklearn.naive_bayes import GaussianNB\n",
    "#### YOUR CODE HERE ####\n",
    "X_train_dense = X_train.toarray()   \n",
    "X_test_dense  = X_test.toarray()\n",
    "\n",
    "model = GaussianNB()\n",
    "model.fit(X_train_dense, y_train)\n",
    "\n",
    "y_pred = model.predict(X_test_dense)\n",
    "\n",
    "#### END YOUR CODE #####"
   ]
  },
  {
   "cell_type": "markdown",
   "metadata": {},
   "source": [
    "## Metrics and Visualization  \n",
    "To evaluate the model's performance, we can compute the F1 score or accuracy. In this case, we use the F1 score since the class distribution in the dataset is imbalanced (with 25% spam).  \n",
    "\n",
    "Additionally, we can plot the ROC-AUC curve to visualize different cutoff points for the model.\n"
   ]
  },
  {
   "cell_type": "code",
   "execution_count": null,
   "metadata": {},
   "outputs": [
    {
     "name": "stdout",
     "output_type": "stream",
     "text": [
      "Accuracy : 0.9523195876288659\n",
      "F1-score : 0.9135514018691588\n",
      "\n",
      "Classification report:\n",
      "               precision    recall  f1-score   support\n",
      "\n",
      "         ham       0.96      0.97      0.97      1121\n",
      "        spam       0.92      0.91      0.91       431\n",
      "\n",
      "    accuracy                           0.95      1552\n",
      "   macro avg       0.94      0.94      0.94      1552\n",
      "weighted avg       0.95      0.95      0.95      1552\n",
      "\n"
     ]
    },
    {
     "data": {
      "image/png": "[encoded data removed]",
      "text/plain": [
       "<Figure size 640x480 with 2 Axes>"
      ]
     },
     "metadata": {},
     "output_type": "display_data"
    },
    {
     "data": {
      "image/png": "[encoded data removed]",
      "text/plain": [
       "<Figure size 640x480 with 1 Axes>"
      ]
     },
     "metadata": {},
     "output_type": "display_data"
    }
   ],
   "source": [
    "#### YOUR CODE HERE ####\n",
    "from sklearn.metrics import (\n",
    "    f1_score, accuracy_score, classification_report,\n",
    "    ConfusionMatrixDisplay, roc_curve, roc_auc_score\n",
    ")\n",
    "import numpy as np\n",
    "import matplotlib.pyplot as plt\n",
    "\n",
    "X_eval = X_test_dense if 'X_test_dense' in locals() else X_test\n",
    "\n",
    "y_pred = model.predict(X_eval)\n",
    "\n",
    "pos_label = 1 if set(np.unique(y_test)) <= {0, 1} else 'spam'\n",
    "\n",
    "# Metrics chính\n",
    "print(\"Accuracy :\", accuracy_score(y_test, y_pred))\n",
    "print(\"F1-score :\", f1_score(y_test, y_pred, pos_label=pos_label))\n",
    "print(\"\\nClassification report:\\n\", classification_report(y_test, y_pred))\n",
    "\n",
    "# Confusion Matrix (visual)\n",
    "disp = ConfusionMatrixDisplay.from_predictions(y_test, y_pred)\n",
    "plt.title(\"Confusion Matrix\")\n",
    "plt.grid(False)\n",
    "plt.show()\n",
    "\n",
    "# ROC–AUC (score/prob)\n",
    "y_score = None\n",
    "if hasattr(model, \"predict_proba\"):\n",
    "    y_score = model.predict_proba(X_eval)[:, 1]\n",
    "elif hasattr(model, \"decision_function\"):\n",
    "    y_score = model.decision_function(X_eval)\n",
    "\n",
    "if y_score is not None:\n",
    "    y_true_bin = (np.array(y_test) == pos_label).astype(int)\n",
    "\n",
    "    auc_val = roc_auc_score(y_true_bin, y_score)\n",
    "    fpr, tpr, _ = roc_curve(y_true_bin, y_score)\n",
    "\n",
    "    plt.figure()\n",
    "    plt.plot(fpr, tpr, label=f\"ROC curve (AUC = {auc_val:.3f})\")\n",
    "    plt.plot([0, 1], [0, 1], linestyle=\"--\")\n",
    "    plt.xlabel(\"False Positive Rate\")\n",
    "    plt.ylabel(\"True Positive Rate\")\n",
    "    plt.title(\"ROC Curve\")\n",
    "    plt.legend()\n",
    "    plt.grid(True)\n",
    "    plt.show()\n",
    "\n",
    "#### END YOUR CODE #####"
   ]
  },
  {
   "cell_type": "markdown",
   "metadata": {},
   "source": [
    "## Alternative: Co-occurrence and TruncatedSVD  \n",
    "\n",
    "In language, semantically related words (e.g., *doctor* and *patient*) often appear in the same context. Based on this idea, we can construct a co-occurrence matrix that captures word occurrences within sentences. This allows us to represent words in a shared vector space rather than relying on simple frequency counts.  \n",
    "\n",
    "A co-occurrence matrix with a window spanning the entire sentence can be built using the existing `CountVectorizer` data or manually constructed.\n"
   ]
  },
  {
   "cell_type": "code",
   "execution_count": 12,
   "metadata": {},
   "outputs": [
    {
     "name": "stdout",
     "output_type": "stream",
     "text": [
      "Term-Document shape: (5171, 21892)\n",
      "Co-occurrence shape: (21892, 21892)\n",
      "[('pharmacy', 0.8649931513341517), ('doctors', 0.8586132433363366), ('medications', 0.8548437225396075), ('cholesterol', 0.8545166066451045), ('door', 0.8514442023023848), ('sleep', 0.8470321612770014), ('erection', 0.8416108732380833), ('suffer', 0.8408908020997456), ('dysfunction', 0.8337578223221964), ('medication', 0.83065239379182)]\n"
     ]
    }
   ],
   "source": [
    "#### YOUR CODE HERE ####\n",
    "from sklearn.feature_extraction.text import CountVectorizer\n",
    "from sklearn.decomposition import TruncatedSVD\n",
    "from sklearn.preprocessing import normalize\n",
    "import numpy as np\n",
    "import scipy.sparse as sp\n",
    "\n",
    "\n",
    "vectorizer = CountVectorizer(\n",
    "    lowercase=True,\n",
    "    stop_words='english',     \n",
    "    max_features=30000,    \n",
    "    min_df=2,             \n",
    "    binary=True\n",
    ")\n",
    "docs = data['text'].astype(str).tolist()\n",
    "X = vectorizer.fit_transform(docs)   \n",
    "\n",
    "\n",
    "C = X.T @ X                         \n",
    "C.setdiag(0)\n",
    "C.eliminate_zeros()\n",
    "\n",
    "print(\"Term-Document shape:\", X.shape)\n",
    "print(\"Co-occurrence shape:\", C.shape)\n",
    "\n",
    "#    n_components: số chiều ẩn, chọn 100–300 tùy dữ liệu/kích thước\n",
    "svd = TruncatedSVD(n_components=200, random_state=42)\n",
    "word_emb = svd.fit_transform(C)     # ndarray (n_terms, k)\n",
    "word_emb = normalize(word_emb)\n",
    "\n",
    "vocab = vectorizer.get_feature_names_out()\n",
    "\n",
    "def most_similar(token, topk=10):\n",
    "    if token not in vocab:\n",
    "        return []\n",
    "    idx = np.where(vocab == token)[0][0]\n",
    "    v = word_emb[idx]\n",
    "    sims = word_emb @ v\n",
    "    # loại chính nó\n",
    "    sims[idx] = -1.0\n",
    "    top_idx = np.argpartition(-sims, range(topk))[:topk]\n",
    "    top_idx = top_idx[np.argsort(-sims[top_idx])]\n",
    "    return [(vocab[i], float(sims[i])) for i in top_idx]\n",
    "\n",
    "print(most_similar(\"doctor\", topk=10))  \n",
    "#### END YOUR CODE #####"
   ]
  },
  {
   "cell_type": "markdown",
   "metadata": {},
   "source": [
    "## Alternative: HashingVectorizer  \n",
    "\n",
    "For large datasets with a high vocabulary size, using `CountVectorizer` for vectorized data storage can be resource-intensive. An alternative approach is to use `HashingVectorizer`. Unlike `CountVectorizer`, which assigns a unique ID to each word/ngram, `HashingVectorizer` maps multiple words to the same ID using a hashing function.  \n",
    "\n",
    "The choice between these two methods involves a trade-off between memory usage (e.g., RAM) and model quality. Adjusting the `n_features` parameter helps balance this trade-off to ensure that model performance does not degrade significantly.\n"
   ]
  },
  {
   "cell_type": "code",
   "execution_count": null,
   "metadata": {},
   "outputs": [
    {
     "name": "stdout",
     "output_type": "stream",
     "text": [
      "CountVectorizer:\n",
      "  Shape: (5171, 5000)\n",
      "  Sample vocab: ['00', '000', '0000', '000000', '000080', '001', '002', '005', '01', '012']\n",
      "\n",
      "HashingVectorizer:\n",
      "  Shape: (5171, 5000)\n",
      "HashingVectorizer vector: [[0. 0. 0. ... 0. 0. 0.]]\n"
     ]
    }
   ],
   "source": [
    "#### YOUR CODE HERE ####\n",
    "from sklearn.feature_extraction.text import HashingVectorizer, CountVectorizer\n",
    "\n",
    "# --- CountVectorizer ---\n",
    "count_vec = CountVectorizer(max_features=5000) \n",
    "X_count = count_vec.fit_transform(data['text'].astype(str))\n",
    "\n",
    "print(\"CountVectorizer:\")\n",
    "print(\"  Shape:\", X_count.shape)\n",
    "print(\"  Sample vocab:\", list(count_vec.get_feature_names_out()[:10]))\n",
    "\n",
    "\n",
    "# --- HashingVectorizer ---\n",
    "# n_features = số chiều vector sau khi băm\n",
    "hash_vec = HashingVectorizer(n_features=5000, alternate_sign=False)  \n",
    "X_hash = hash_vec.fit_transform(data['text'].astype(str))\n",
    "\n",
    "print(\"\\nHashingVectorizer:\")\n",
    "print(\"  Shape:\", X_hash.shape)\n",
    "sample_text = [\"this is a simple test document\"]\n",
    "print(\"HashingVectorizer vector:\", hash_vec.transform(sample_text).toarray())\n",
    "\n",
    "#### END YOUR CODE #####"
   ]
  },
  {
   "cell_type": "markdown",
   "metadata": {},
   "source": [
    "## Comparison and Analysis of Feature Extraction Methods  "
   ]
  },
  {
   "cell_type": "markdown",
   "metadata": {},
   "source": []
  }
 ],
 "metadata": {
  "kernelspec": {
   "display_name": "base",
   "language": "python",
   "name": "python3"
  },
  "language_info": {
   "codemirror_mode": {
    "name": "ipython",
    "version": 3
   },
   "file_extension": ".py",
   "mimetype": "text/x-python",
   "name": "python",
   "nbconvert_exporter": "python",
   "pygments_lexer": "ipython3",
   "version": "3.13.5"
  }
 },
 "nbformat": 4,
 "nbformat_minor": 2
}
